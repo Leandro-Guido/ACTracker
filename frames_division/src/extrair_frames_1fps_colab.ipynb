{
  "nbformat": 4,
  "nbformat_minor": 0,
  "metadata": {
    "colab": {
      "provenance": []
    },
    "kernelspec": {
      "name": "python3",
      "display_name": "Python 3"
    },
    "language_info": {
      "name": "python"
    }
  },
  "cells": [
    {
      "cell_type": "code",
      "execution_count": 1,
      "metadata": {
        "colab": {
          "base_uri": "https://localhost:8080/",
          "height": 90
        },
        "id": "NFpD-pegzShu",
        "outputId": "117d3f59-499e-4262-a99d-8a5c614d3437"
      },
      "outputs": [
        {
          "output_type": "display_data",
          "data": {
            "text/plain": [
              "<IPython.core.display.HTML object>"
            ],
            "text/html": [
              "\n",
              "     <input type=\"file\" id=\"files-a0ca949f-68e5-4908-8638-b096b346bdb0\" name=\"files[]\" multiple disabled\n",
              "        style=\"border:none\" />\n",
              "     <output id=\"result-a0ca949f-68e5-4908-8638-b096b346bdb0\">\n",
              "      Upload widget is only available when the cell has been executed in the\n",
              "      current browser session. Please rerun this cell to enable.\n",
              "      </output>\n",
              "      <script>// Copyright 2017 Google LLC\n",
              "//\n",
              "// Licensed under the Apache License, Version 2.0 (the \"License\");\n",
              "// you may not use this file except in compliance with the License.\n",
              "// You may obtain a copy of the License at\n",
              "//\n",
              "//      http://www.apache.org/licenses/LICENSE-2.0\n",
              "//\n",
              "// Unless required by applicable law or agreed to in writing, software\n",
              "// distributed under the License is distributed on an \"AS IS\" BASIS,\n",
              "// WITHOUT WARRANTIES OR CONDITIONS OF ANY KIND, either express or implied.\n",
              "// See the License for the specific language governing permissions and\n",
              "// limitations under the License.\n",
              "\n",
              "/**\n",
              " * @fileoverview Helpers for google.colab Python module.\n",
              " */\n",
              "(function(scope) {\n",
              "function span(text, styleAttributes = {}) {\n",
              "  const element = document.createElement('span');\n",
              "  element.textContent = text;\n",
              "  for (const key of Object.keys(styleAttributes)) {\n",
              "    element.style[key] = styleAttributes[key];\n",
              "  }\n",
              "  return element;\n",
              "}\n",
              "\n",
              "// Max number of bytes which will be uploaded at a time.\n",
              "const MAX_PAYLOAD_SIZE = 100 * 1024;\n",
              "\n",
              "function _uploadFiles(inputId, outputId) {\n",
              "  const steps = uploadFilesStep(inputId, outputId);\n",
              "  const outputElement = document.getElementById(outputId);\n",
              "  // Cache steps on the outputElement to make it available for the next call\n",
              "  // to uploadFilesContinue from Python.\n",
              "  outputElement.steps = steps;\n",
              "\n",
              "  return _uploadFilesContinue(outputId);\n",
              "}\n",
              "\n",
              "// This is roughly an async generator (not supported in the browser yet),\n",
              "// where there are multiple asynchronous steps and the Python side is going\n",
              "// to poll for completion of each step.\n",
              "// This uses a Promise to block the python side on completion of each step,\n",
              "// then passes the result of the previous step as the input to the next step.\n",
              "function _uploadFilesContinue(outputId) {\n",
              "  const outputElement = document.getElementById(outputId);\n",
              "  const steps = outputElement.steps;\n",
              "\n",
              "  const next = steps.next(outputElement.lastPromiseValue);\n",
              "  return Promise.resolve(next.value.promise).then((value) => {\n",
              "    // Cache the last promise value to make it available to the next\n",
              "    // step of the generator.\n",
              "    outputElement.lastPromiseValue = value;\n",
              "    return next.value.response;\n",
              "  });\n",
              "}\n",
              "\n",
              "/**\n",
              " * Generator function which is called between each async step of the upload\n",
              " * process.\n",
              " * @param {string} inputId Element ID of the input file picker element.\n",
              " * @param {string} outputId Element ID of the output display.\n",
              " * @return {!Iterable<!Object>} Iterable of next steps.\n",
              " */\n",
              "function* uploadFilesStep(inputId, outputId) {\n",
              "  const inputElement = document.getElementById(inputId);\n",
              "  inputElement.disabled = false;\n",
              "\n",
              "  const outputElement = document.getElementById(outputId);\n",
              "  outputElement.innerHTML = '';\n",
              "\n",
              "  const pickedPromise = new Promise((resolve) => {\n",
              "    inputElement.addEventListener('change', (e) => {\n",
              "      resolve(e.target.files);\n",
              "    });\n",
              "  });\n",
              "\n",
              "  const cancel = document.createElement('button');\n",
              "  inputElement.parentElement.appendChild(cancel);\n",
              "  cancel.textContent = 'Cancel upload';\n",
              "  const cancelPromise = new Promise((resolve) => {\n",
              "    cancel.onclick = () => {\n",
              "      resolve(null);\n",
              "    };\n",
              "  });\n",
              "\n",
              "  // Wait for the user to pick the files.\n",
              "  const files = yield {\n",
              "    promise: Promise.race([pickedPromise, cancelPromise]),\n",
              "    response: {\n",
              "      action: 'starting',\n",
              "    }\n",
              "  };\n",
              "\n",
              "  cancel.remove();\n",
              "\n",
              "  // Disable the input element since further picks are not allowed.\n",
              "  inputElement.disabled = true;\n",
              "\n",
              "  if (!files) {\n",
              "    return {\n",
              "      response: {\n",
              "        action: 'complete',\n",
              "      }\n",
              "    };\n",
              "  }\n",
              "\n",
              "  for (const file of files) {\n",
              "    const li = document.createElement('li');\n",
              "    li.append(span(file.name, {fontWeight: 'bold'}));\n",
              "    li.append(span(\n",
              "        `(${file.type || 'n/a'}) - ${file.size} bytes, ` +\n",
              "        `last modified: ${\n",
              "            file.lastModifiedDate ? file.lastModifiedDate.toLocaleDateString() :\n",
              "                                    'n/a'} - `));\n",
              "    const percent = span('0% done');\n",
              "    li.appendChild(percent);\n",
              "\n",
              "    outputElement.appendChild(li);\n",
              "\n",
              "    const fileDataPromise = new Promise((resolve) => {\n",
              "      const reader = new FileReader();\n",
              "      reader.onload = (e) => {\n",
              "        resolve(e.target.result);\n",
              "      };\n",
              "      reader.readAsArrayBuffer(file);\n",
              "    });\n",
              "    // Wait for the data to be ready.\n",
              "    let fileData = yield {\n",
              "      promise: fileDataPromise,\n",
              "      response: {\n",
              "        action: 'continue',\n",
              "      }\n",
              "    };\n",
              "\n",
              "    // Use a chunked sending to avoid message size limits. See b/62115660.\n",
              "    let position = 0;\n",
              "    do {\n",
              "      const length = Math.min(fileData.byteLength - position, MAX_PAYLOAD_SIZE);\n",
              "      const chunk = new Uint8Array(fileData, position, length);\n",
              "      position += length;\n",
              "\n",
              "      const base64 = btoa(String.fromCharCode.apply(null, chunk));\n",
              "      yield {\n",
              "        response: {\n",
              "          action: 'append',\n",
              "          file: file.name,\n",
              "          data: base64,\n",
              "        },\n",
              "      };\n",
              "\n",
              "      let percentDone = fileData.byteLength === 0 ?\n",
              "          100 :\n",
              "          Math.round((position / fileData.byteLength) * 100);\n",
              "      percent.textContent = `${percentDone}% done`;\n",
              "\n",
              "    } while (position < fileData.byteLength);\n",
              "  }\n",
              "\n",
              "  // All done.\n",
              "  yield {\n",
              "    response: {\n",
              "      action: 'complete',\n",
              "    }\n",
              "  };\n",
              "}\n",
              "\n",
              "scope.google = scope.google || {};\n",
              "scope.google.colab = scope.google.colab || {};\n",
              "scope.google.colab._files = {\n",
              "  _uploadFiles,\n",
              "  _uploadFilesContinue,\n",
              "};\n",
              "})(self);\n",
              "</script> "
            ]
          },
          "metadata": {}
        },
        {
          "output_type": "stream",
          "name": "stdout",
          "text": [
            "Saving WhatsApp Video 2025-05-04 at 12.08.15.mp4 to WhatsApp Video 2025-05-04 at 12.08.15.mp4\n",
            "Vídeo recebido: WhatsApp Video 2025-05-04 at 12.08.15.mp4\n"
          ]
        }
      ],
      "source": [
        "# Etapa 1: Upload do vídeo\n",
        "from google.colab import files\n",
        "import os\n",
        "\n",
        "uploaded = files.upload()\n",
        "\n",
        "# Pega o nome do vídeo enviado\n",
        "video_filename = list(uploaded.keys())[0]\n",
        "print(f\"Vídeo recebido: {video_filename}\")\n"
      ]
    },
    {
      "cell_type": "code",
      "source": [
        "# Etapa 2: Instala o OpenCV (caso ainda não esteja instalado)\n",
        "!pip install opencv-python-headless"
      ],
      "metadata": {
        "colab": {
          "base_uri": "https://localhost:8080/"
        },
        "id": "bqWOlr6J2BJm",
        "outputId": "50096591-4d60-4e85-9ff2-772942f60902"
      },
      "execution_count": 12,
      "outputs": [
        {
          "output_type": "stream",
          "name": "stdout",
          "text": [
            "Requirement already satisfied: opencv-python-headless in /usr/local/lib/python3.11/dist-packages (4.11.0.86)\n",
            "Requirement already satisfied: numpy>=1.21.2 in /usr/local/lib/python3.11/dist-packages (from opencv-python-headless) (2.0.2)\n"
          ]
        }
      ]
    },
    {
      "cell_type": "code",
      "source": [
        "# Etapa 3: Função para extrair 1 frame por segundo\n",
        "import cv2\n",
        "import os\n",
        "import time\n",
        "import psutil\n",
        "\n",
        "def extrair_frames_por_segundo(video_path, output_folder):\n",
        "    if not os.path.exists(output_folder):\n",
        "        os.makedirs(output_folder)\n",
        "\n",
        "    cap = cv2.VideoCapture(video_path)\n",
        "\n",
        "    if not cap.isOpened():\n",
        "        print(f\"Erro ao abrir o vídeo: {video_path}\")\n",
        "        return\n",
        "\n",
        "    fps = cap.get(cv2.CAP_PROP_FPS)  # Frames por segundo do vídeo\n",
        "    frame_interval = int(fps)        # Pular para o próximo segundo\n",
        "\n",
        "    frame_count = 0\n",
        "    saved_count = 0\n",
        "\n",
        "    while True:\n",
        "        ret, frame = cap.read()\n",
        "        if not ret:\n",
        "            break\n",
        "\n",
        "        # Salva somente 1 frame por segundo\n",
        "        if frame_count % frame_interval == 0:\n",
        "            frame_filename = os.path.join(output_folder, f\"frame_{saved_count:05d}.png\")\n",
        "            cv2.imwrite(frame_filename, frame)\n",
        "            print(f\"Salvando frame do segundo {saved_count}: {frame_filename}\")\n",
        "            saved_count += 1\n",
        "\n",
        "        frame_count += 1\n",
        "\n",
        "    cap.release()\n",
        "    print(f\"{saved_count} frames salvos (1 por segundo) em: '{output_folder}'\")\n",
        "    return saved_count"
      ],
      "metadata": {
        "id": "flCKI9iW2C_-"
      },
      "execution_count": 13,
      "outputs": []
    },
    {
      "cell_type": "code",
      "source": [
        "# Etapa 4: Função para gerar KPIs\n",
        "def gerar_kpis(video_path, pasta_frames, tempo_inicio, tempo_fim, frames_extraidos):\n",
        "    # Calcula o tempo de processamento\n",
        "    tempo_total = tempo_fim - tempo_inicio\n",
        "\n",
        "    # Uso de memória (em MB)\n",
        "    processo = psutil.Process(os.getpid())\n",
        "    memoria_usada = processo.memory_info().rss / (1024 * 1024)\n",
        "\n",
        "    # Abre o vídeo para pegar o total de frames\n",
        "    cap = cv2.VideoCapture(video_path)\n",
        "    fps_video = cap.get(cv2.CAP_PROP_FPS)\n",
        "    total_frames = int(cap.get(cv2.CAP_PROP_FRAME_COUNT))\n",
        "    cap.release()\n",
        "\n",
        "    # Calcula o tamanho total dos frames extraídos\n",
        "    arquivos = os.listdir(pasta_frames)\n",
        "    total_tamanho = sum(os.path.getsize(os.path.join(pasta_frames, f)) for f in arquivos) / (1024 * 1024)  # em MB\n",
        "\n",
        "    # Tamanho médio por frame (em KB)\n",
        "    tamanho_medio_frame = (total_tamanho * 1024) / len(arquivos)  # em KB\n",
        "\n",
        "    # Eficiência do processamento\n",
        "    eficiencia = (frames_extraidos / total_frames) * 100\n",
        "\n",
        "    # Velocidade de extração (frames por segundo)\n",
        "    velocidade_extracao = frames_extraidos / tempo_total if tempo_total > 0 else 0\n",
        "\n",
        "    # Exibindo os KPIs\n",
        "    print(\"\\nKPIs do Processamento de Vídeo:\")\n",
        "    print(f\"⏱️ Tempo de processamento total: {tempo_total:.2f} segundos\")\n",
        "    print(f\"🧠 Uso de memória RAM: {memoria_usada:.2f} MB\")\n",
        "    print(f\"💾 Espaço total dos frames extraídos: {total_tamanho:.2f} MB\")\n",
        "    print(f\"📁 Tamanho médio por frame: {tamanho_medio_frame:.2f} KB\")\n",
        "    print(f\"🧩 Eficiência do processamento: {eficiencia:.2f}%\")\n",
        "    print(f\"⚙️ Velocidade de extração: {velocidade_extracao:.2f} frames/s\")\n",
        "\n",
        "\n",
        "# Etapa 5: Executar o processo\n",
        "output_folder = \"frames_1fps\"\n",
        "tempo_inicio = time.time()\n",
        "frames_extraidos = extrair_frames_por_segundo(video_filename, output_folder)\n",
        "tempo_fim = time.time()\n",
        "\n",
        "# Gerar KPIs após a extração dos frames\n",
        "gerar_kpis(video_filename, output_folder, tempo_inicio, tempo_fim, frames_extraidos)\n"
      ],
      "metadata": {
        "colab": {
          "base_uri": "https://localhost:8080/"
        },
        "id": "e6W8LsUC5NFk",
        "outputId": "6b4fdc97-b9b1-4bdc-b077-dc00d123ffdc"
      },
      "execution_count": 14,
      "outputs": [
        {
          "output_type": "stream",
          "name": "stdout",
          "text": [
            "Salvando frame do segundo 0: frames_1fps/frame_00000.png\n",
            "Salvando frame do segundo 1: frames_1fps/frame_00001.png\n",
            "Salvando frame do segundo 2: frames_1fps/frame_00002.png\n",
            "Salvando frame do segundo 3: frames_1fps/frame_00003.png\n",
            "Salvando frame do segundo 4: frames_1fps/frame_00004.png\n",
            "Salvando frame do segundo 5: frames_1fps/frame_00005.png\n",
            "Salvando frame do segundo 6: frames_1fps/frame_00006.png\n",
            "Salvando frame do segundo 7: frames_1fps/frame_00007.png\n",
            "8 frames salvos (1 por segundo) em: 'frames_1fps'\n",
            "\n",
            "KPIs do Processamento de Vídeo:\n",
            "⏱️ Tempo de processamento total: 1.47 segundos\n",
            "🧠 Uso de memória RAM: 144.07 MB\n",
            "💾 Espaço total dos frames extraídos: 3.48 MB\n",
            "📁 Tamanho médio por frame: 445.40 KB\n",
            "🧩 Eficiência do processamento: 3.46%\n",
            "⚙️ Velocidade de extração: 5.43 frames/s\n"
          ]
        }
      ]
    },
    {
      "cell_type": "code",
      "source": [
        "# Etapa 6: Compactar os frames para facilitar download\n",
        "import shutil\n",
        "\n",
        "shutil.make_archive(\"frames_extraidos\", 'zip', output_folder)\n",
        "files.download(\"frames_extraidos.zip\")"
      ],
      "metadata": {
        "colab": {
          "base_uri": "https://localhost:8080/",
          "height": 17
        },
        "id": "gbjoA33a5bXT",
        "outputId": "8c43d8f4-9ea8-4d22-aca9-b3ca71947f92"
      },
      "execution_count": 11,
      "outputs": [
        {
          "output_type": "display_data",
          "data": {
            "text/plain": [
              "<IPython.core.display.Javascript object>"
            ],
            "application/javascript": [
              "\n",
              "    async function download(id, filename, size) {\n",
              "      if (!google.colab.kernel.accessAllowed) {\n",
              "        return;\n",
              "      }\n",
              "      const div = document.createElement('div');\n",
              "      const label = document.createElement('label');\n",
              "      label.textContent = `Downloading \"${filename}\": `;\n",
              "      div.appendChild(label);\n",
              "      const progress = document.createElement('progress');\n",
              "      progress.max = size;\n",
              "      div.appendChild(progress);\n",
              "      document.body.appendChild(div);\n",
              "\n",
              "      const buffers = [];\n",
              "      let downloaded = 0;\n",
              "\n",
              "      const channel = await google.colab.kernel.comms.open(id);\n",
              "      // Send a message to notify the kernel that we're ready.\n",
              "      channel.send({})\n",
              "\n",
              "      for await (const message of channel.messages) {\n",
              "        // Send a message to notify the kernel that we're ready.\n",
              "        channel.send({})\n",
              "        if (message.buffers) {\n",
              "          for (const buffer of message.buffers) {\n",
              "            buffers.push(buffer);\n",
              "            downloaded += buffer.byteLength;\n",
              "            progress.value = downloaded;\n",
              "          }\n",
              "        }\n",
              "      }\n",
              "      const blob = new Blob(buffers, {type: 'application/binary'});\n",
              "      const a = document.createElement('a');\n",
              "      a.href = window.URL.createObjectURL(blob);\n",
              "      a.download = filename;\n",
              "      div.appendChild(a);\n",
              "      a.click();\n",
              "      div.remove();\n",
              "    }\n",
              "  "
            ]
          },
          "metadata": {}
        },
        {
          "output_type": "display_data",
          "data": {
            "text/plain": [
              "<IPython.core.display.Javascript object>"
            ],
            "application/javascript": [
              "download(\"download_446f8216-48fe-4b94-a64c-ea71a71fc0cc\", \"frames_extraidos.zip\", 3340662)"
            ]
          },
          "metadata": {}
        }
      ]
    },
    {
      "cell_type": "markdown",
      "source": [],
      "metadata": {
        "id": "iqi40geE2YLV"
      }
    }
  ]
}